{
 "cells": [
  {
   "cell_type": "markdown",
   "metadata": {},
   "source": [
    "*Question One:* _List Comprehension_"
   ]
  },
  {
   "cell_type": "code",
   "execution_count": 1,
   "metadata": {},
   "outputs": [
    {
     "name": "stdout",
     "output_type": "stream",
     "text": [
      "[1, 9, 25, 49, 81, 121, 169, 225, 289, 361]\n"
     ]
    }
   ],
   "source": [
    "# Write a python program that outputs the squares of odd numbers from range of 1 to 20\n",
    "\n",
    "squared_numbers = []\n",
    "numbers = list(range(1,21))\n",
    "for odd_number in numbers :\n",
    "  if odd_number % 2 != 0:\n",
    "    squared_numbers.append(odd_number**2)\n",
    "print(squared_numbers)\n",
    "\n"
   ]
  },
  {
   "cell_type": "markdown",
   "metadata": {},
   "source": [
    "*Question Two:* _Integers_"
   ]
  },
  {
   "cell_type": "code",
   "execution_count": 2,
   "metadata": {},
   "outputs": [
    {
     "name": "stdout",
     "output_type": "stream",
     "text": [
      "Enter a number: 97\n",
      "97 is not multiple of 5\n"
     ]
    }
   ],
   "source": [
    "# Write a program to check whether the given integer is a multiple of 5_\n",
    "\n",
    "number = (int(input(\"Enter a number: \")))\n",
    "\n",
    "if (number) % 5 == 0:\n",
    "    print(number, \"is multiple of 5\")\n",
    "else:\n",
    "    print(number, \"is not multiple of 5\")"
   ]
  },
  {
   "cell_type": "markdown",
   "metadata": {},
   "source": [
    "*Question Three*: _If Statement_"
   ]
  },
  {
   "cell_type": "code",
   "execution_count": 3,
   "metadata": {},
   "outputs": [],
   "source": [
    "# Write a program python program to check whether the given integer is a prime number or not\n",
    "\n",
    "\n"
   ]
  },
  {
   "cell_type": "markdown",
   "metadata": {},
   "source": [
    "*Question Four:* _User-defined Functions_"
   ]
  },
  {
   "cell_type": "code",
   "execution_count": 1,
   "metadata": {},
   "outputs": [],
   "source": [
    "# Write a program to implement a calculator to do basic operations (+,-,*,/)\n",
    "\n"
   ]
  },
  {
   "cell_type": "markdown",
   "metadata": {},
   "source": [
    "*Question Five:* _Dictionaries & For Loop_"
   ]
  },
  {
   "cell_type": "code",
   "execution_count": 2,
   "metadata": {},
   "outputs": [],
   "source": [
    "# Create a simple dictionary and write a program to print all the items in your dictionary\n"
   ]
  },
  {
   "cell_type": "code",
   "execution_count": null,
   "metadata": {},
   "outputs": [],
   "source": []
  }
 ],
 "metadata": {
  "interpreter": {
   "hash": "1e4af7d8341c13d568efc1f8500c9e0239c4d10084c4659a417b8b188748b437"
  },
  "kernelspec": {
   "display_name": "Python 3 (ipykernel)",
   "language": "python",
   "name": "python3"
  },
  "language_info": {
   "codemirror_mode": {
    "name": "ipython",
    "version": 3
   },
   "file_extension": ".py",
   "mimetype": "text/x-python",
   "name": "python",
   "nbconvert_exporter": "python",
   "pygments_lexer": "ipython3",
   "version": "3.9.7"
  }
 },
 "nbformat": 4,
 "nbformat_minor": 2
}
